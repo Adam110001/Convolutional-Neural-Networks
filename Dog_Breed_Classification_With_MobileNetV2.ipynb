{
 "cells": [
  {
   "cell_type": "markdown",
   "metadata": {},
   "source": [
    "## Dog Breed Classification Using MobileNetv2 (CNN)"
   ]
  },
  {
   "cell_type": "markdown",
   "metadata": {},
   "source": [
    "### Importing all the libraries"
   ]
  },
  {
   "cell_type": "code",
   "execution_count": 2,
   "metadata": {},
   "outputs": [],
   "source": [
    "import numpy as np\n",
    "\n",
    "import tensorflow as tf\n",
    "\n",
    "from keras.preprocessing.image import ImageDataGenerator, img_to_array, load_img  \n",
    "from keras.models import Sequential  \n",
    "from keras.layers import Dropout, Flatten, Dense  \n",
    "from keras import applications  \n",
    "from keras.utils.np_utils import to_categorical\n",
    "\n",
    "import matplotlib.pyplot as plt  \n",
    "import math"
   ]
  },
  {
   "cell_type": "markdown",
   "metadata": {},
   "source": [
    "### Check for tensorflow version"
   ]
  },
  {
   "cell_type": "code",
   "execution_count": 3,
   "metadata": {},
   "outputs": [
    {
     "data": {
      "text/plain": [
       "'2.4.1'"
      ]
     },
     "execution_count": 3,
     "metadata": {},
     "output_type": "execute_result"
    }
   ],
   "source": [
    "tf.__version__"
   ]
  },
  {
   "cell_type": "markdown",
   "metadata": {},
   "source": [
    "### Perimeters"
   ]
  },
  {
   "cell_type": "code",
   "execution_count": 4,
   "metadata": {},
   "outputs": [],
   "source": [
    "img_width, img_height = 224, 224  \n",
    "\n",
    "weights_path = 'mobilenet_model.h5'  \n",
    "\n",
    "epochs = 10\n",
    "batch_size = 64"
   ]
  },
  {
   "cell_type": "markdown",
   "metadata": {},
   "source": [
    "### MobileNet model"
   ]
  },
  {
   "cell_type": "code",
   "execution_count": 5,
   "metadata": {},
   "outputs": [
    {
     "name": "stdout",
     "output_type": "stream",
     "text": [
      "WARNING:tensorflow:`input_shape` is undefined or non-square, or `rows` is not in [128, 160, 192, 224]. Weights for input shape (224, 224) will be loaded as the default.\n"
     ]
    }
   ],
   "source": [
    "model = applications.mobilenet.MobileNet(include_top=False, weights='imagenet')"
   ]
  },
  {
   "cell_type": "markdown",
   "metadata": {},
   "source": [
    "### Training Set Data Preprocessing"
   ]
  },
  {
   "cell_type": "code",
   "execution_count": 6,
   "metadata": {
    "scrolled": true
   },
   "outputs": [
    {
     "name": "stdout",
     "output_type": "stream",
     "text": [
      "Found 30909 images belonging to 164 classes.\n"
     ]
    }
   ],
   "source": [
    "train_datagen = ImageDataGenerator(rescale = 1./255,\n",
    "                                   shear_range = 0.2,\n",
    "                                   zoom_range = 0.2,\n",
    "                                   horizontal_flip = True)\n",
    "\n",
    "train_set = train_datagen.flow_from_directory(  \n",
    "                                   'dataset/training_set/cat_and_dog_breeds_tg',  \n",
    "                                   target_size=(img_width, img_height),  \n",
    "                                   batch_size=batch_size,  \n",
    "                                   class_mode=None,  \n",
    "                                   shuffle=False)\n",
    "\n",
    "nb_train_samples = len(train_set.filenames) \n",
    "num_classes = len(train_set.class_indices) "
   ]
  },
  {
   "cell_type": "markdown",
   "metadata": {},
   "source": [
    "### MobileNetV2 Bottleneck Feature (Training Set)"
   ]
  },
  {
   "cell_type": "code",
   "execution_count": 7,
   "metadata": {},
   "outputs": [],
   "source": [
    "predict_size_train = int(math.ceil(nb_train_samples / batch_size))  \n",
    "   \n",
    "bottleneck_features_train = model.predict(train_set, predict_size_train)  \n",
    "   \n",
    "np.save('bottleneck_features_train_mob.npy', bottleneck_features_train)"
   ]
  },
  {
   "cell_type": "markdown",
   "metadata": {},
   "source": [
    "### Test Set Preprocessing Images"
   ]
  },
  {
   "cell_type": "code",
   "execution_count": 8,
   "metadata": {},
   "outputs": [
    {
     "name": "stdout",
     "output_type": "stream",
     "text": [
      "Found 30909 images belonging to 164 classes.\n"
     ]
    }
   ],
   "source": [
    "test_datagen = ImageDataGenerator(rescale = 1./255)\n",
    "test_set = test_datagen.flow_from_directory('dataset/test_set/cat_and_dog_breeds_tt',\n",
    "                                            target_size=(img_width, img_height),\n",
    "                                            batch_size = batch_size,\n",
    "                                            class_mode = None)\n",
    "\n",
    "nb_test_samples = len(test_set.filenames)  "
   ]
  },
  {
   "cell_type": "markdown",
   "metadata": {},
   "source": [
    "### MobileNetV2 Bottleneck Feature (Test Set)"
   ]
  },
  {
   "cell_type": "code",
   "execution_count": 9,
   "metadata": {},
   "outputs": [],
   "source": [
    "predict_size_test = int(math.ceil(nb_test_samples / batch_size))  \n",
    "   \n",
    "bottleneck_features_test = model.predict(test_set, predict_size_test)  \n",
    "   \n",
    "np.save('bottleneck_features_test_mob.npy', bottleneck_features_test)"
   ]
  },
  {
   "cell_type": "markdown",
   "metadata": {},
   "source": [
    "### Training Data to Categorial"
   ]
  },
  {
   "cell_type": "code",
   "execution_count": 10,
   "metadata": {},
   "outputs": [
    {
     "name": "stdout",
     "output_type": "stream",
     "text": [
      "Found 30909 images belonging to 164 classes.\n"
     ]
    }
   ],
   "source": [
    "training_datagen_top = ImageDataGenerator(rescale = 1./255)\n",
    "training_set_top = training_datagen_top.flow_from_directory(  \n",
    "         'dataset/training_set/cat_and_dog_breeds_tg',  \n",
    "         target_size=(img_width, img_height),  \n",
    "         batch_size=batch_size,  \n",
    "         class_mode='categorical',  \n",
    "         shuffle=False) \n",
    "\n",
    "nb_train_samples = len(training_set_top.filenames)  \n",
    "num_classes = len(training_set_top.class_indices)  "
   ]
  },
  {
   "cell_type": "markdown",
   "metadata": {},
   "source": [
    "### Uploading Bottleneck Features (Training Data)"
   ]
  },
  {
   "cell_type": "code",
   "execution_count": 11,
   "metadata": {},
   "outputs": [],
   "source": [
    "train_data = np.load('bottleneck_features_train_mob.npy')  \n",
    "\n",
    "train_labels = training_set_top.classes  \n",
    "   \n",
    "train_labels = to_categorical(train_labels, num_classes=num_classes)"
   ]
  },
  {
   "cell_type": "markdown",
   "metadata": {},
   "source": [
    "### Uploading Bottlneck Feature (Test Data)"
   ]
  },
  {
   "cell_type": "code",
   "execution_count": 12,
   "metadata": {},
   "outputs": [],
   "source": [
    "test_data = np.load('bottleneck_features_test_mob.npy')  \n",
    "\n",
    "test_labels = test_set.classes  \n",
    "\n",
    "test_labels = to_categorical(test_labels, num_classes=num_classes)"
   ]
  },
  {
   "cell_type": "markdown",
   "metadata": {},
   "source": [
    "### CNN and MobileNet model"
   ]
  },
  {
   "cell_type": "code",
   "execution_count": 18,
   "metadata": {
    "scrolled": true
   },
   "outputs": [
    {
     "name": "stdout",
     "output_type": "stream",
     "text": [
      "Epoch 1/10\n",
      "483/483 [==============================] - 125s 255ms/step - loss: 6.5578 - accuracy: 0.0076 - val_loss: 5.0929 - val_accuracy: 0.0091\n",
      "Epoch 2/10\n",
      "483/483 [==============================] - 116s 239ms/step - loss: 5.1246 - accuracy: 0.0102 - val_loss: 5.1141 - val_accuracy: 0.0091\n",
      "Epoch 3/10\n",
      "483/483 [==============================] - 111s 228ms/step - loss: 5.0919 - accuracy: 0.0127 - val_loss: 5.1314 - val_accuracy: 0.0090\n",
      "Epoch 4/10\n",
      "483/483 [==============================] - 112s 231ms/step - loss: 5.0645 - accuracy: 0.0204 - val_loss: 5.3823 - val_accuracy: 0.0089\n",
      "Epoch 5/10\n",
      "483/483 [==============================] - 108s 222ms/step - loss: 5.0284 - accuracy: 0.0249 - val_loss: 5.8699 - val_accuracy: 0.0090\n",
      "Epoch 6/10\n",
      "483/483 [==============================] - 99s 204ms/step - loss: 5.0142 - accuracy: 0.0315 - val_loss: 5.8415 - val_accuracy: 0.0087\n",
      "Epoch 7/10\n",
      "483/483 [==============================] - 99s 204ms/step - loss: 4.9684 - accuracy: 0.0398 - val_loss: 6.0642 - val_accuracy: 0.0086\n",
      "Epoch 8/10\n",
      "483/483 [==============================] - 96s 197ms/step - loss: 4.9235 - accuracy: 0.0425 - val_loss: 6.8801 - val_accuracy: 0.0088\n",
      "Epoch 9/10\n",
      "483/483 [==============================] - 100s 207ms/step - loss: 4.9121 - accuracy: 0.0499 - val_loss: 7.2014 - val_accuracy: 0.0085\n",
      "Epoch 10/10\n",
      "483/483 [==============================] - 101s 208ms/step - loss: 4.8810 - accuracy: 0.0603 - val_loss: 7.3526 - val_accuracy: 0.0083\n",
      "966/966 [==============================] - 25s 26ms/step - loss: 7.3526 - accuracy: 0.0083\n",
      "[INFO] accuracy: 0.83%\n",
      "[INFO] Loss: 7.352635860443115\n"
     ]
    }
   ],
   "source": [
    "model = Sequential()  \n",
    "model.add(Flatten(input_shape=train_data.shape[1:]))  \n",
    "model.add(Dense(256, activation='relu'))  \n",
    "model.add(Dropout(0.5))  \n",
    "model.add(Dense(num_classes, activation='softmax'))  \n",
    "   \n",
    "model.compile(optimizer='rmsprop', loss='categorical_crossentropy', metrics=['accuracy'])  \n",
    "   \n",
    "history = model.fit(train_data, \n",
    "                    train_labels, \n",
    "                    epochs=epochs, \n",
    "                    batch_size=batch_size,\n",
    "                    validation_data=(test_data, test_labels))  \n",
    "   \n",
    "model.save_weights(weights_path)  \n",
    "   \n",
    "(eval_loss, eval_accuracy) = model.evaluate(  \n",
    "     test_data, test_labels, batch_size=batch_size, verbose=1)\n",
    "\n",
    "print(\"[INFO] accuracy: {:.2f}%\".format(eval_accuracy * 100))  \n",
    "print(\"[INFO] Loss: {}\".format(eval_loss))"
   ]
  },
  {
   "cell_type": "code",
   "execution_count": null,
   "metadata": {},
   "outputs": [],
   "source": [
    "# summarize history for accuracy  \n",
    "   \n",
    "plt.subplot(211)  \n",
    "plt.plot(history.history['acc'])  \n",
    "plt.plot(history.history['val_acc'])  \n",
    "plt.title('MobileNet model accuracy')  \n",
    "plt.ylabel('accuracy')  \n",
    "plt.xlabel('epoch')  \n",
    "plt.legend(['train', 'test'], loc='upper left')  \n",
    "  \n",
    "# summarize history for loss  \n",
    "   \n",
    "plt.subplot(212)  \n",
    "plt.plot(history.history['loss'])  \n",
    "plt.plot(history.history['val_loss'])  \n",
    "plt.title('model loss')  \n",
    "plt.ylabel('loss')  \n",
    "plt.xlabel('epoch')  \n",
    "plt.legend(['train', 'test'], loc='upper left')  \n",
    "plt.show()"
   ]
  }
 ],
 "metadata": {
  "kernelspec": {
   "display_name": "Python 3",
   "language": "python",
   "name": "python3"
  },
  "language_info": {
   "codemirror_mode": {
    "name": "ipython",
    "version": 3
   },
   "file_extension": ".py",
   "mimetype": "text/x-python",
   "name": "python",
   "nbconvert_exporter": "python",
   "pygments_lexer": "ipython3",
   "version": "3.8.5"
  }
 },
 "nbformat": 4,
 "nbformat_minor": 4
}
